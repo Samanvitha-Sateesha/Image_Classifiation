{
  "nbformat": 4,
  "nbformat_minor": 0,
  "metadata": {
    "colab": {
      "name": "CIFAR10.ipynb",
      "provenance": [],
      "collapsed_sections": [],
      "authorship_tag": "ABX9TyMpGsRa3LHU7DSvslRCU4NV",
      "include_colab_link": true
    },
    "kernelspec": {
      "name": "python3",
      "display_name": "Python 3"
    },
    "language_info": {
      "name": "python"
    },
    "accelerator": "GPU"
  },
  "cells": [
    {
      "cell_type": "markdown",
      "metadata": {
        "id": "view-in-github",
        "colab_type": "text"
      },
      "source": [
        "<a href=\"https://colab.research.google.com/github/Samanvitha-Sateesha/Image_Classifiation/blob/main/CIFAR10.ipynb\" target=\"_parent\"><img src=\"https://colab.research.google.com/assets/colab-badge.svg\" alt=\"Open In Colab\"/></a>"
      ]
    },
    {
      "cell_type": "markdown",
      "metadata": {
        "id": "Sgc3sH7Cl_CF"
      },
      "source": [
        "**Initial setup and Data Exploration**"
      ]
    },
    {
      "cell_type": "code",
      "metadata": {
        "id": "J2IyUTfmgbMp"
      },
      "source": [
        "import tensorflow as tf\n",
        "from tensorflow.keras import datasets, layers, models\n",
        "import matplotlib.pyplot as plt\n",
        "import numpy as np"
      ],
      "execution_count": 1,
      "outputs": []
    },
    {
      "cell_type": "code",
      "metadata": {
        "colab": {
          "base_uri": "https://localhost:8080/"
        },
        "id": "hIzNwnGdhY6q",
        "outputId": "f32755c1-e301-4cc6-8bb3-f7dbb31c984e"
      },
      "source": [
        "(X_train, y_train), (X_test,y_test) = datasets.cifar10.load_data()\n",
        "X_train.shape"
      ],
      "execution_count": 2,
      "outputs": [
        {
          "output_type": "stream",
          "name": "stdout",
          "text": [
            "Downloading data from https://www.cs.toronto.edu/~kriz/cifar-10-python.tar.gz\n",
            "170500096/170498071 [==============================] - 2s 0us/step\n",
            "170508288/170498071 [==============================] - 2s 0us/step\n"
          ]
        },
        {
          "output_type": "execute_result",
          "data": {
            "text/plain": [
              "(50000, 32, 32, 3)"
            ]
          },
          "metadata": {},
          "execution_count": 2
        }
      ]
    },
    {
      "cell_type": "code",
      "metadata": {
        "colab": {
          "base_uri": "https://localhost:8080/"
        },
        "id": "whYg40M1iCxg",
        "outputId": "b85235d8-f666-4167-a029-f6b53135eadf"
      },
      "source": [
        "X_test.shape"
      ],
      "execution_count": 3,
      "outputs": [
        {
          "output_type": "execute_result",
          "data": {
            "text/plain": [
              "(10000, 32, 32, 3)"
            ]
          },
          "metadata": {},
          "execution_count": 3
        }
      ]
    },
    {
      "cell_type": "code",
      "metadata": {
        "colab": {
          "base_uri": "https://localhost:8080/"
        },
        "id": "-Iyb1ZJmiP7t",
        "outputId": "076d1821-7d18-4a2a-d17b-f9adcc135780"
      },
      "source": [
        "y_train[:5]\n",
        "y_train = y_train.reshape(-1,)   #To change the shape from 2D array to 1D array, we use reshape function\n",
        "#Since, we don't want to change first dimension it's -1 and we will leave it blank after comma since we want it to be flattened by 1 dim \n",
        "y_train[:5]"
      ],
      "execution_count": 4,
      "outputs": [
        {
          "output_type": "execute_result",
          "data": {
            "text/plain": [
              "array([6, 9, 9, 4, 1], dtype=uint8)"
            ]
          },
          "metadata": {},
          "execution_count": 4
        }
      ]
    },
    {
      "cell_type": "code",
      "metadata": {
        "id": "yaAwV6jXlVOu"
      },
      "source": [
        "classes = [\"airplane\",\"automobile\",\"bird\",\"cat\",\"deer\",\"dog\",\"frog\",\"horse\",\"ship\",\"truck\"]"
      ],
      "execution_count": 5,
      "outputs": []
    },
    {
      "cell_type": "code",
      "metadata": {
        "id": "kwQkPZjMlYz1"
      },
      "source": [
        "def plot_sample(X, y, index):     #A function to plot images\n",
        "    plt.figure(figsize = (15,2))\n",
        "    plt.imshow(X[index])\n",
        "    plt.xlabel(classes[y[index]])"
      ],
      "execution_count": 6,
      "outputs": []
    },
    {
      "cell_type": "code",
      "metadata": {
        "colab": {
          "base_uri": "https://localhost:8080/",
          "height": 173
        },
        "id": "RvA6Vbg1lex2",
        "outputId": "c7ff0ac7-82a4-4087-a2d5-97a4e40486ea"
      },
      "source": [
        "plot_sample(X_train, y_train, 10)"
      ],
      "execution_count": 7,
      "outputs": [
        {
          "output_type": "display_data",
          "data": {
            "image/png": "[encoded data removed]",
            "text/plain": [
              "<Figure size 1080x144 with 1 Axes>"
            ]
          },
          "metadata": {
            "needs_background": "light"
          }
        }
      ]
    },
    {
      "cell_type": "markdown",
      "metadata": {
        "id": "vU7iVxjJlyJ-"
      },
      "source": [
        "**Normalising the Data**"
      ]
    },
    {
      "cell_type": "code",
      "metadata": {
        "id": "mXrqGFrHlljS"
      },
      "source": [
        "X_train = X_train / 255.0\n",
        "X_test = X_test / 255.0"
      ],
      "execution_count": 8,
      "outputs": []
    },
    {
      "cell_type": "markdown",
      "metadata": {
        "id": "jNcyE-kdnB1x"
      },
      "source": [
        "**Building a Convolution Neural Network**"
      ]
    },
    {
      "cell_type": "code",
      "metadata": {
        "id": "C3sQZqw1mLfn"
      },
      "source": [
        "cnn = models.Sequential([\n",
        "    layers.Conv2D(filters=32, kernel_size=(3, 3), padding = \"same\", activation='relu', input_shape=(32, 32, 3)),\n",
        "    layers.MaxPooling2D((2, 2)),\n",
        "    \n",
        "    layers.Conv2D(filters=64, kernel_size=(3, 3), padding = \"same\", activation='relu'),\n",
        "    layers.MaxPooling2D((2, 2)),\n",
        "\n",
        "    layers.Conv2D(filters=128, kernel_size=(3, 3), padding = \"same\", activation='relu'),\n",
        "    layers.MaxPooling2D((2, 2)),\n",
        "    \n",
        "    layers.Flatten(),\n",
        "    layers.Dense(128, activation='relu'),\n",
        "    layers.Dense(64, activation='relu'),\n",
        "    layers.Dense(10, activation='softmax')\n",
        "])"
      ],
      "execution_count": 14,
      "outputs": []
    },
    {
      "cell_type": "code",
      "metadata": {
        "id": "pvucojA8oJfu"
      },
      "source": [
        "cnn.compile(optimizer='adam',\n",
        "              loss='sparse_categorical_crossentropy',\n",
        "              metrics=['accuracy'])"
      ],
      "execution_count": 15,
      "outputs": []
    },
    {
      "cell_type": "code",
      "metadata": {
        "colab": {
          "base_uri": "https://localhost:8080/"
        },
        "id": "JXWlxaGdoQT0",
        "outputId": "63bd9d5f-c083-4c1d-fcc5-a6fa62c3b0d8"
      },
      "source": [
        "cnn.fit(X_train, y_train, epochs=20)"
      ],
      "execution_count": 18,
      "outputs": [
        {
          "output_type": "stream",
          "name": "stdout",
          "text": [
            "Epoch 1/20\n",
            "1563/1563 [==============================] - 14s 9ms/step - loss: 0.2741 - accuracy: 0.9047\n",
            "Epoch 2/20\n",
            "1563/1563 [==============================] - 14s 9ms/step - loss: 0.2381 - accuracy: 0.9162\n",
            "Epoch 3/20\n",
            "1563/1563 [==============================] - 14s 9ms/step - loss: 0.2111 - accuracy: 0.9256\n",
            "Epoch 4/20\n",
            "1563/1563 [==============================] - 14s 9ms/step - loss: 0.1915 - accuracy: 0.9320\n",
            "Epoch 5/20\n",
            "1563/1563 [==============================] - 14s 9ms/step - loss: 0.1758 - accuracy: 0.9383\n",
            "Epoch 6/20\n",
            "1563/1563 [==============================] - 14s 9ms/step - loss: 0.1572 - accuracy: 0.9450\n",
            "Epoch 7/20\n",
            "1563/1563 [==============================] - 14s 9ms/step - loss: 0.1485 - accuracy: 0.9477\n",
            "Epoch 8/20\n",
            "1563/1563 [==============================] - 14s 9ms/step - loss: 0.1435 - accuracy: 0.9494\n",
            "Epoch 9/20\n",
            "1563/1563 [==============================] - 14s 9ms/step - loss: 0.1300 - accuracy: 0.9559\n",
            "Epoch 10/20\n",
            "1563/1563 [==============================] - 14s 9ms/step - loss: 0.1247 - accuracy: 0.9562\n",
            "Epoch 11/20\n",
            "1563/1563 [==============================] - 14s 9ms/step - loss: 0.1188 - accuracy: 0.9593\n",
            "Epoch 12/20\n",
            "1563/1563 [==============================] - 14s 9ms/step - loss: 0.1180 - accuracy: 0.9596\n",
            "Epoch 13/20\n",
            "1563/1563 [==============================] - 14s 9ms/step - loss: 0.1139 - accuracy: 0.9607\n",
            "Epoch 14/20\n",
            "1563/1563 [==============================] - 14s 9ms/step - loss: 0.1027 - accuracy: 0.9650\n",
            "Epoch 15/20\n",
            "1563/1563 [==============================] - 14s 9ms/step - loss: 0.1026 - accuracy: 0.9656\n",
            "Epoch 16/20\n",
            "1563/1563 [==============================] - 14s 9ms/step - loss: 0.0998 - accuracy: 0.9661\n",
            "Epoch 17/20\n",
            "1563/1563 [==============================] - 14s 9ms/step - loss: 0.0963 - accuracy: 0.9685\n",
            "Epoch 18/20\n",
            "1563/1563 [==============================] - 14s 9ms/step - loss: 0.0870 - accuracy: 0.9711\n",
            "Epoch 19/20\n",
            "1563/1563 [==============================] - 14s 9ms/step - loss: 0.0928 - accuracy: 0.9684\n",
            "Epoch 20/20\n",
            "1563/1563 [==============================] - 14s 9ms/step - loss: 0.0876 - accuracy: 0.9703\n"
          ]
        },
        {
          "output_type": "execute_result",
          "data": {
            "text/plain": [
              "<keras.callbacks.History at 0x7f5c36ddfa10>"
            ]
          },
          "metadata": {},
          "execution_count": 18
        }
      ]
    },
    {
      "cell_type": "code",
      "metadata": {
        "colab": {
          "base_uri": "https://localhost:8080/"
        },
        "id": "iHwbIBWxoUxq",
        "outputId": "76362604-33f6-4141-a102-3e9311bde97e"
      },
      "source": [
        "cnn.evaluate(X_test,y_test)"
      ],
      "execution_count": 19,
      "outputs": [
        {
          "output_type": "stream",
          "name": "stdout",
          "text": [
            "313/313 [==============================] - 2s 5ms/step - loss: 1.8804 - accuracy: 0.7289\n"
          ]
        },
        {
          "output_type": "execute_result",
          "data": {
            "text/plain": [
              "[1.880430817604065, 0.7289000153541565]"
            ]
          },
          "metadata": {},
          "execution_count": 19
        }
      ]
    },
    {
      "cell_type": "code",
      "metadata": {
        "id": "CczrND_wqxAM"
      },
      "source": [
        ""
      ],
      "execution_count": 12,
      "outputs": []
    }
  ]
}